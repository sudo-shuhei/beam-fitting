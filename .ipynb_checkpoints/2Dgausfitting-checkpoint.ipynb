{
 "cells": [
  {
   "cell_type": "code",
   "execution_count": 13,
   "metadata": {},
   "outputs": [],
   "source": [
    "from PIL import Image\n",
    "import numpy as np\n",
    "import matplotlib.pyplot as plt\n",
    "import cv2\n",
    "import scipy.optimize as opt\n",
    "import os, glob\n"
   ]
  },
  {
   "cell_type": "code",
   "execution_count": 14,
   "metadata": {},
   "outputs": [],
   "source": [
    "#file=(\"/Users/sudoshuhei/Desktop/python/original.bmp\")\n",
    "#folder=\"/Users/sudoshuhei/Desktop/python\"\n",
    "image_size=96"
   ]
  },
  {
   "cell_type": "code",
   "execution_count": 15,
   "metadata": {},
   "outputs": [
    {
     "name": "stdout",
     "output_type": "stream",
     "text": [
      "[38 39 44 ... 39 48 40]\n",
      "(9216,)\n"
     ]
    }
   ],
   "source": [
    "X=[]\n",
    "\n",
    " \n",
    "image = Image.open(\"/Users/sudoshuhei/Desktop/python/images/10kV570mA.bmp\")\n",
    "#image = image.convert(\"RGB\")\n",
    "image = image.convert('L')\n",
    "image = image.resize((image_size, image_size))\n",
    "data = np.asarray(image)\n",
    "X.append(data)\n",
    "X = np.array(X)\n",
    "n=image_size*image_size\n",
    "X=X.reshape(n)\n",
    "print(X)\n",
    "print(X.shape)"
   ]
  },
  {
   "cell_type": "code",
   "execution_count": 16,
   "metadata": {},
   "outputs": [],
   "source": [
    "#X=[]\n",
    "#Y=[]\n",
    "#for index, name in enumerate(folder):\n",
    "#    dir = \"./\" + name\n",
    "#    files = glob.glob(dir + \"/*.bmp\")\n",
    "#    for i, file in enumerate(files):\n",
    "# \n",
    "#        image = Image.open(file)\n",
    "#        image = image.convert(\"RGB\")\n",
    "#        image = image.convert('L')\n",
    "#        image = image.resize((image_size, image_size))\n",
    "#        data = np.asarray(image)\n",
    "#        X.append(data)\n",
    "#        Y.append(index)\n",
    "# \n",
    "#    X = np.array(X)\n",
    "#    Y = np.array(Y)\n",
    "\n",
    "#    print(X.shape)\n"
   ]
  },
  {
   "cell_type": "code",
   "execution_count": 17,
   "metadata": {},
   "outputs": [],
   "source": [
    "#from PIL import Image\n",
    "#img=Image.open(file)\n",
    "#print(img)\n"
   ]
  },
  {
   "cell_type": "code",
   "execution_count": 18,
   "metadata": {},
   "outputs": [],
   "source": [
    "#im=cv2.imread(file)"
   ]
  },
  {
   "cell_type": "code",
   "execution_count": 19,
   "metadata": {},
   "outputs": [],
   "source": [
    "#print(im)"
   ]
  },
  {
   "cell_type": "code",
   "execution_count": 20,
   "metadata": {},
   "outputs": [],
   "source": [
    "#plt.imshow(im)"
   ]
  },
  {
   "cell_type": "code",
   "execution_count": 21,
   "metadata": {},
   "outputs": [],
   "source": [
    "#print(im.shape)"
   ]
  },
  {
   "cell_type": "code",
   "execution_count": 22,
   "metadata": {
    "scrolled": true
   },
   "outputs": [],
   "source": [
    "#gray=cv2.cvtColor(im,cv2.COLOR_RGB2GRAY)\n",
    "#plt.imshow(gray)\n"
   ]
  },
  {
   "cell_type": "code",
   "execution_count": 23,
   "metadata": {},
   "outputs": [],
   "source": [
    "#print(gray.shape)"
   ]
  },
  {
   "cell_type": "code",
   "execution_count": 24,
   "metadata": {},
   "outputs": [],
   "source": [
    "\n",
    "#print(gray[0])"
   ]
  },
  {
   "cell_type": "code",
   "execution_count": 25,
   "metadata": {},
   "outputs": [],
   "source": [
    "def twoD_Gaussian(XY, amplitude, xo, yo, sigma_x, sigma_y, theta, offset):\n",
    "    x,y = XY[0:2]\n",
    "    xo = float(xo)\n",
    "    yo = float(yo)\n",
    "    #print(x)\n",
    "    a = (np.cos(theta)**2)/(2*sigma_x**2) + (np.sin(theta)**2)/(2*sigma_y**2)\n",
    "    b = -(np.sin(2*theta))/(4*sigma_x**2) + (np.sin(2*theta))/(4*sigma_y**2)\n",
    "    c = (np.sin(theta)**2)/(2*sigma_x**2) + (np.cos(theta)**2)/(2*sigma_y**2)\n",
    "    g = offset + amplitude*np.exp( - (a*((x-xo)**2) + 2*b*(x-xo)*(y-yo)\n",
    "                            + c*((y-yo)**2)))\n",
    "    return g.ravel()"
   ]
  },
  {
   "cell_type": "code",
   "execution_count": 26,
   "metadata": {
    "scrolled": true
   },
   "outputs": [],
   "source": [
    "#x = np.linspace(0, 95, 96)\n",
    "#y = np.linspace(0, 95, 96)\n",
    "#x, y = np.meshgrid(x, y)\n",
    "#print(x)\n"
   ]
  },
  {
   "cell_type": "code",
   "execution_count": null,
   "metadata": {},
   "outputs": [],
   "source": []
  },
  {
   "cell_type": "code",
   "execution_count": 27,
   "metadata": {
    "scrolled": false
   },
   "outputs": [
    {
     "name": "stdout",
     "output_type": "stream",
     "text": [
      "[[ 0.  1.  2. ... 93. 94. 95.]\n",
      " [ 0.  1.  2. ... 93. 94. 95.]\n",
      " [ 0.  1.  2. ... 93. 94. 95.]\n",
      " ...\n",
      " [ 0.  1.  2. ... 93. 94. 95.]\n",
      " [ 0.  1.  2. ... 93. 94. 95.]\n",
      " [ 0.  1.  2. ... 93. 94. 95.]]\n"
     ]
    }
   ],
   "source": [
    "#x=np.ndarray(0,95)\n",
    "x = np.linspace(0, 95, 96)\n",
    "y = np.linspace(0, 95, 96)\n",
    "x, y = np.meshgrid(x, y)\n",
    "#z=x.reshape(1, 96, 96)\n",
    "print(x)\n",
    "#print(z)\n",
    "#print(z.shape)\n",
    "#data = twoD_Gaussian((x, y), 3, 100, 100, 20, 40, 0, 10)"
   ]
  },
  {
   "cell_type": "code",
   "execution_count": 28,
   "metadata": {
    "scrolled": true
   },
   "outputs": [],
   "source": [
    "#plt.figure()\n",
    "#plt.imshow(data.reshape(96,96))\n",
    "#plt.colorbar()"
   ]
  },
  {
   "cell_type": "code",
   "execution_count": 29,
   "metadata": {
    "scrolled": true
   },
   "outputs": [],
   "source": [
    "#g=twoD_Gaussian()"
   ]
  },
  {
   "cell_type": "code",
   "execution_count": 30,
   "metadata": {},
   "outputs": [],
   "source": [
    "initial_guess = (122,50,50,20,10,10,3)\n"
   ]
  },
  {
   "cell_type": "code",
   "execution_count": 31,
   "metadata": {
    "scrolled": true
   },
   "outputs": [
    {
     "name": "stdout",
     "output_type": "stream",
     "text": [
      "[234.99418999  54.02825641  35.438345     2.83245504   3.66379922\n",
      "  10.92250298  41.080016  ]\n",
      "*\n",
      "[[ 1.95258642e+00  3.44355575e-09  2.32516677e-09 -1.17676563e-02\n",
      "  -1.52213406e-02  3.25733166e-10  5.90719882e-11]\n",
      " [ 3.44355575e-09  4.73612396e-04  1.39049713e-05 -1.44842944e-12\n",
      "  -5.21739241e-11 -5.12034265e-12 -6.25625156e-14]\n",
      " [ 2.32516677e-09  1.39049713e-05  2.84698611e-04 -2.66575785e-11\n",
      "  -2.05335658e-12  1.83879190e-12  2.06190055e-13]\n",
      " [-1.17676563e-02 -1.44842944e-12 -2.66575785e-11  2.85746155e-04\n",
      "   2.67173724e-06 -3.23215650e-11 -8.56822782e-05]\n",
      " [-1.52213406e-02 -5.21739241e-11 -2.05335658e-12  2.67173724e-06\n",
      "   4.78086251e-04  4.13682598e-11 -1.10829132e-04]\n",
      " [ 3.25733166e-10 -5.12034265e-12  1.83879190e-12 -3.23215650e-11\n",
      "   4.13682598e-11  2.61140333e-04 -2.49335897e-12]\n",
      " [ 5.90719831e-11 -6.25625156e-14  2.06190055e-13 -8.56822782e-05\n",
      "  -1.10829132e-04 -2.49335897e-12  3.55427722e-03]]\n"
     ]
    }
   ],
   "source": [
    "popt, pcov = opt.curve_fit(twoD_Gaussian, (x,y), X, p0=initial_guess)\n",
    "print(popt)\n",
    "print('*')\n",
    "print(pcov)\n",
    "np.savetxt('10kV570mA',popt)"
   ]
  },
  {
   "cell_type": "code",
   "execution_count": 32,
   "metadata": {},
   "outputs": [],
   "source": [
    "data_fitted = twoD_Gaussian((x, y), *popt)\n",
    "data_initial = twoD_Gaussian((x, y), *initial_guess)"
   ]
  },
  {
   "cell_type": "code",
   "execution_count": 33,
   "metadata": {
    "scrolled": true
   },
   "outputs": [
    {
     "name": "stdout",
     "output_type": "stream",
     "text": [
      "[41.080016 41.080016 41.080016 ... 41.080016 41.080016 41.080016]\n"
     ]
    }
   ],
   "source": [
    "print(data_fitted)"
   ]
  },
  {
   "cell_type": "code",
   "execution_count": 39,
   "metadata": {
    "scrolled": true
   },
   "outputs": [
    {
     "data": {
      "image/png": "[encoded data removed]",
      "text/plain": [
       "<Figure size 432x288 with 1 Axes>"
      ]
     },
     "metadata": {
      "needs_background": "light"
     },
     "output_type": "display_data"
    },
    {
     "data": {
      "image/png": "[encoded data removed]",
      "text/plain": [
       "<Figure size 432x288 with 1 Axes>"
      ]
     },
     "metadata": {
      "needs_background": "light"
     },
     "output_type": "display_data"
    }
   ],
   "source": [
    "fig, ax = plt.subplots(1, 1)\n",
    "ax.imshow(data_initial.reshape(96, 96), cmap=plt.cm.jet, origin='bottom',\n",
    "    extent=(x.min(), x.max(), y.min(), y.max()))\n",
    "plt.show()\n",
    "\n",
    "\n",
    "fig, ax = plt.subplots(1, 1)\n",
    "ax.imshow(data_fitted.reshape(96, 96), cmap=plt.cm.jet, origin='bottom',\n",
    "    extent=(x.min(), x.max(), y.min(), y.max()))\n",
    "ax.contour(x, y, data_fitted.reshape(96, 96), 8, colors='w')\n",
    "plt.show()"
   ]
  },
  {
   "cell_type": "code",
   "execution_count": 44,
   "metadata": {
    "scrolled": true
   },
   "outputs": [
    {
     "data": {
      "image/png": "[encoded data removed]",
      "text/plain": [
       "<Figure size 432x288 with 1 Axes>"
      ]
     },
     "metadata": {
      "needs_background": "light"
     },
     "output_type": "display_data"
    }
   ],
   "source": [
    "fig, ax = plt.subplots(1, 1)\n",
    "ax.imshow(data_fitted.reshape(96, 96), cmap=plt.cm.jet, origin='lower',\n",
    "    extent=(x.min(), x.max(), y.min(), y.max()))\n",
    "ax.contour(x, y, data_fitted.reshape(96, 96), 8, colors='w')\n",
    "\n",
    "\n",
    "plt.savefig('fitted.png')"
   ]
  },
  {
   "cell_type": "code",
   "execution_count": null,
   "metadata": {},
   "outputs": [],
   "source": []
  },
  {
   "cell_type": "code",
   "execution_count": null,
   "metadata": {},
   "outputs": [],
   "source": []
  },
  {
   "cell_type": "code",
   "execution_count": null,
   "metadata": {},
   "outputs": [],
   "source": []
  }
 ],
 "metadata": {
  "kernelspec": {
   "display_name": "py3cv",
   "language": "python",
   "name": "py3cv"
  },
  "language_info": {
   "codemirror_mode": {
    "name": "ipython",
    "version": 3
   },
   "file_extension": ".py",
   "mimetype": "text/x-python",
   "name": "python",
   "nbconvert_exporter": "python",
   "pygments_lexer": "ipython3",
   "version": "3.6.7"
  }
 },
 "nbformat": 4,
 "nbformat_minor": 2
}
