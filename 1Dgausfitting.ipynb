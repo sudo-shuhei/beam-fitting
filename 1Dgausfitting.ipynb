{
 "cells": [
  {
   "cell_type": "code",
   "execution_count": 1,
   "metadata": {},
   "outputs": [],
   "source": [
    "import numpy as np\n",
    "import pandas as pd\n",
    "import matplotlib.pyplot as plt\n",
    "from scipy.optimize import curve_fit\n",
    "from scipy.stats import norm\n",
    " "
   ]
  },
  {
   "cell_type": "code",
   "execution_count": 2,
   "metadata": {},
   "outputs": [],
   "source": [
    "# gaussian function\n",
    "def gaussian_func(x, A, mu, sigma):\n",
    "    return A * np.exp( - (x - mu)**2 / (2 * sigma**2))"
   ]
  },
  {
   "cell_type": "code",
   "execution_count": 3,
   "metadata": {},
   "outputs": [
    {
     "data": {
      "text/plain": [
       "<matplotlib.collections.PathCollection at 0x108708908>"
      ]
     },
     "execution_count": 3,
     "metadata": {},
     "output_type": "execute_result"
    },
    {
     "data": {
      "image/png": "[encoded data removed]",
      "text/plain": [
       "<Figure size 432x288 with 1 Axes>"
      ]
     },
     "metadata": {
      "needs_background": "light"
     },
     "output_type": "display_data"
    }
   ],
   "source": [
    " \n",
    "# generate toy data\n",
    "x = np.array([2.45, 2.55, 2.65, 2.75, 2.85, 2.95, 3.05, 3.15, 3.25, 3.35])\n",
    "y = np.array([0.000333333333401242, 22.0373333333334, 142.074333333333, 383.444666666667, 602.815, 611.185333333333, 417.555666666667, 154.926, 13.2963333333335, 0])\n",
    "plt.scatter(x,y)\n",
    " "
   ]
  },
  {
   "cell_type": "code",
   "execution_count": 4,
   "metadata": {},
   "outputs": [
    {
     "data": {
      "image/png": "[encoded data removed]",
      "text/plain": [
       "<Figure size 432x288 with 1 Axes>"
      ]
     },
     "metadata": {
      "needs_background": "light"
     },
     "output_type": "display_data"
    }
   ],
   "source": [
    "# initial_guess_of_parameters\n",
    "# この値はソルバーとかで求めましょう．\n",
    "parameter_initial = np.array([652, 2.9, 1.3])\n",
    " \n",
    "# estimate optimal parameter & parameter covariance\n",
    "popt, pcov = curve_fit(gaussian_func, x, y, p0=parameter_initial)\n",
    " \n",
    "# plot result\n",
    "xd = np.arange(x.min(), x.max(), 0.01)\n",
    "estimated_curve = gaussian_func(xd, popt[0], popt[1], popt[2])\n",
    "plt.plot(xd, estimated_curve, label=\"Estimated curve\", color=\"r\")\n",
    "plt.legend()\n",
    "plt.savefig(\"gaussian_fitting.png\")\n",
    "plt.show()\n",
    " "
   ]
  },
  {
   "cell_type": "code",
   "execution_count": 5,
   "metadata": {},
   "outputs": [
    {
     "name": "stdout",
     "output_type": "stream",
     "text": [
      "         Estimate  Std. Error        lwCI        upCI\n",
      "A      652.173659   11.491564  629.650608  674.696710\n",
      "mu       2.904722    0.002973    2.898895    2.910548\n",
      "sigma   -0.146120    0.002973   -0.151948   -0.140293\n"
     ]
    }
   ],
   "source": [
    "# estimate standard Error\n",
    "StdE = np.sqrt(np.diag(pcov))\n",
    " \n",
    "# estimate 95% confidence interval\n",
    "alpha=0.025\n",
    "lwCI = popt + norm.ppf(q=alpha)*StdE\n",
    "upCI = popt + norm.ppf(q=1-alpha)*StdE\n",
    " \n",
    "# print result\n",
    "mat = np.vstack((popt,StdE, lwCI, upCI)).T\n",
    "df=pd.DataFrame(mat,index=(\"A\", \"mu\", \"sigma\"),\n",
    "columns=(\"Estimate\", \"Std. Error\", \"lwCI\", \"upCI\"))\n",
    "print(df)"
   ]
  },
  {
   "cell_type": "code",
   "execution_count": null,
   "metadata": {},
   "outputs": [],
   "source": []
  }
 ],
 "metadata": {
  "kernelspec": {
   "display_name": "py3cv",
   "language": "python",
   "name": "py3cv"
  },
  "language_info": {
   "codemirror_mode": {
    "name": "ipython",
    "version": 3
   },
   "file_extension": ".py",
   "mimetype": "text/x-python",
   "name": "python",
   "nbconvert_exporter": "python",
   "pygments_lexer": "ipython3",
   "version": "3.6.7"
  }
 },
 "nbformat": 4,
 "nbformat_minor": 2
}
